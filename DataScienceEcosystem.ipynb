{
 "cells": [
  {
   "cell_type": "markdown",
   "id": "8cb370ac-0c9c-4535-9eca-48f25883c45e",
   "metadata": {},
   "source": [
    "# Data Science Tools and Ecosystem"
   ]
  },
  {
   "cell_type": "code",
   "execution_count": null,
   "id": "0ca02e04-ccf6-44ea-b20d-3044b10df774",
   "metadata": {},
   "outputs": [],
   "source": []
  },
  {
   "cell_type": "markdown",
   "id": "4ff57a11-bcce-4f35-807f-b0e12ce82b9c",
   "metadata": {},
   "source": [
    "# Introduction"
   ]
  },
  {
   "cell_type": "raw",
   "id": "33908260-f736-46d6-b921-5c37298cd36b",
   "metadata": {},
   "source": [
    " This notebook is a powerfull tool for the data scientist to cleand data with some libraries  and visualize data here without downloading any \n",
    " other software"
   ]
  },
  {
   "cell_type": "markdown",
   "id": "30b7ed62-3993-4806-a8a6-3ba1432ee2d9",
   "metadata": {},
   "source": [
    "Commonly used languages by Data Scientists are:\n",
    "\n",
    "1. Python\n",
    "2. R-Language\n",
    "3. Julia\n",
    "4. Java"
   ]
  },
  {
   "cell_type": "code",
   "execution_count": null,
   "id": "bcd03212-0e0c-41ec-a417-7ae7a182b0c5",
   "metadata": {},
   "outputs": [],
   "source": []
  },
  {
   "cell_type": "markdown",
   "id": "4e9a965d-5abe-41f8-b2af-6df41a24e858",
   "metadata": {},
   "source": [
    "Some of the commonly used libraries used by Data Scientists include:\n",
    "\n",
    "1. pandas\n",
    "2. numpy\n",
    "3. matplotlib\n",
    "4. seaborn\n",
    "5. dplyr\n",
    "6. caret"
   ]
  },
  {
   "cell_type": "code",
   "execution_count": null,
   "id": "db32e581-8239-43c6-9022-c435fb5d24bc",
   "metadata": {},
   "outputs": [],
   "source": []
  },
  {
   "cell_type": "markdown",
   "id": "05d9648f-11aa-4fd4-a340-435ca5c7eabf",
   "metadata": {},
   "source": [
    "### Data Science Tools ###\n",
    "1. R studio\n",
    "2. Vs Studio\n",
    "3. Anaconda"
   ]
  },
  {
   "cell_type": "code",
   "execution_count": null,
   "id": "c5927ddf-e302-4b37-be33-b2e558551217",
   "metadata": {},
   "outputs": [],
   "source": []
  },
  {
   "cell_type": "markdown",
   "id": "228fba64-f91b-41a3-b700-ae07f69ac9f2",
   "metadata": {},
   "source": [
    "### Below are a few examples of evaluating arithmetic expressions in Python\n",
    "\n"
   ]
  },
  {
   "cell_type": "code",
   "execution_count": 2,
   "id": "b8d86ece-aab0-4268-8b5a-0a058e317053",
   "metadata": {},
   "outputs": [
    {
     "name": "stdout",
     "output_type": "stream",
     "text": [
      "30\n",
      "-10\n",
      "200\n"
     ]
    }
   ],
   "source": [
    "a=10\n",
    "b=20\n",
    "print(a+b)\n",
    "print(a-b)\n",
    "print(a*b)"
   ]
  },
  {
   "cell_type": "code",
   "execution_count": null,
   "id": "040b7be9-1ce0-4dab-a4cc-ac9eda197720",
   "metadata": {},
   "outputs": [],
   "source": []
  },
  {
   "cell_type": "code",
   "execution_count": null,
   "id": "24ee5101-f0a9-4344-a9dc-d864615f30ee",
   "metadata": {},
   "outputs": [],
   "source": []
  },
  {
   "cell_type": "code",
   "execution_count": 3,
   "id": "7a255056-6e14-4836-a5f5-212a3e9b148a",
   "metadata": {},
   "outputs": [
    {
     "name": "stdout",
     "output_type": "stream",
     "text": [
      "17\n"
     ]
    }
   ],
   "source": [
    "#This a simple arithmetic expression to mutiply then add integers\n",
    "a=(3*4)+5\n",
    "print(a)"
   ]
  },
  {
   "cell_type": "code",
   "execution_count": null,
   "id": "21c644c9-ab12-46e6-bb33-581bc9028be7",
   "metadata": {},
   "outputs": [],
   "source": []
  },
  {
   "cell_type": "code",
   "execution_count": 5,
   "id": "aa70398a-7f6c-483d-a4d0-2e296669292f",
   "metadata": {},
   "outputs": [
    {
     "name": "stdout",
     "output_type": "stream",
     "text": [
      "3.3333333333333335\n"
     ]
    }
   ],
   "source": [
    "#This will convert 200 minutes to hours by diving by 60\n",
    "a=200 # in minutes\n",
    "b=a/60 # for hours\n",
    "print(b)\n"
   ]
  },
  {
   "cell_type": "code",
   "execution_count": null,
   "id": "57dd273b-f752-4756-be6b-2a5f61112716",
   "metadata": {},
   "outputs": [],
   "source": []
  },
  {
   "cell_type": "markdown",
   "id": "9e2ca047-f0e2-4dc1-9141-bff64ac23e83",
   "metadata": {},
   "source": [
    "**Objectives**\n",
    "\n",
    "- Popular languages for data science\n",
    "- pandas\r",
    "- \n",
    "numpycaret"
   ]
  },
  {
   "cell_type": "code",
   "execution_count": null,
   "id": "76143336-c6f5-4f99-b2c8-fbc3075c4343",
   "metadata": {},
   "outputs": [],
   "source": []
  },
  {
   "cell_type": "markdown",
   "id": "fbbcbf47-045d-4901-8885-ad01f5117999",
   "metadata": {},
   "source": [
    "## Author\n",
    "Mateen Ahmad"
   ]
  },
  {
   "cell_type": "code",
   "execution_count": null,
   "id": "32f2924a-e108-4a46-b833-4e991ba3262f",
   "metadata": {},
   "outputs": [],
   "source": []
  },
  {
   "cell_type": "code",
   "execution_count": null,
   "id": "adba08e7-e754-4526-8e26-09e056814c1f",
   "metadata": {},
   "outputs": [],
   "source": []
  },
  {
   "cell_type": "code",
   "execution_count": null,
   "id": "85e0f0a2-cc24-4126-b461-80f266b850fd",
   "metadata": {},
   "outputs": [],
   "source": []
  },
  {
   "cell_type": "code",
   "execution_count": null,
   "id": "6256ec45-8aba-43c4-833d-7e064fe77b6b",
   "metadata": {},
   "outputs": [],
   "source": []
  },
  {
   "cell_type": "code",
   "execution_count": null,
   "id": "598e76ce-929b-42f3-8d74-b5144c941727",
   "metadata": {},
   "outputs": [],
   "source": []
  },
  {
   "cell_type": "code",
   "execution_count": null,
   "id": "8f9c2399-5a02-4363-b7c6-1f1d0ac5c946",
   "metadata": {},
   "outputs": [],
   "source": []
  },
  {
   "cell_type": "code",
   "execution_count": null,
   "id": "9338f693-56d2-4054-8670-b3bf9bb38db8",
   "metadata": {},
   "outputs": [],
   "source": []
  },
  {
   "cell_type": "code",
   "execution_count": null,
   "id": "dd4f9c10-07e3-4aa9-8970-2a5fb0ecd165",
   "metadata": {},
   "outputs": [],
   "source": []
  },
  {
   "cell_type": "code",
   "execution_count": null,
   "id": "ab342db7-855f-4364-9d26-9b6eb9fb15cc",
   "metadata": {},
   "outputs": [],
   "source": []
  },
  {
   "cell_type": "code",
   "execution_count": null,
   "id": "fca0d33d-3fe8-479f-88c4-947211993382",
   "metadata": {},
   "outputs": [],
   "source": []
  },
  {
   "cell_type": "code",
   "execution_count": null,
   "id": "43a83ae2-a820-4a57-88e5-709c5fd13709",
   "metadata": {},
   "outputs": [],
   "source": []
  },
  {
   "cell_type": "code",
   "execution_count": null,
   "id": "21bfa7d6-d712-4f05-9472-b5a0c22d15d2",
   "metadata": {},
   "outputs": [],
   "source": []
  }
 ],
 "metadata": {
  "kernelspec": {
   "display_name": "Python 3 (ipykernel)",
   "language": "python",
   "name": "python3"
  },
  "language_info": {
   "codemirror_mode": {
    "name": "ipython",
    "version": 3
   },
   "file_extension": ".py",
   "mimetype": "text/x-python",
   "name": "python",
   "nbconvert_exporter": "python",
   "pygments_lexer": "ipython3",
   "version": "3.11.7"
  }
 },
 "nbformat": 4,
 "nbformat_minor": 5
}
